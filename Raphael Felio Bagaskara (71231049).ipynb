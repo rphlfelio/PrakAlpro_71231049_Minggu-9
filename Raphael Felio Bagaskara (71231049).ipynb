{
 "cells": [
  {
   "cell_type": "code",
   "execution_count": 4,
   "id": "b2e30526",
   "metadata": {},
   "outputs": [
    {
     "name": "stdout",
     "output_type": "stream",
     "text": [
      "Masukkan nama file dan tipe file\n",
      ": contoh.txt\n",
      "Masukkan nama file dan tipe file\n",
      ": ini.txt\n",
      "baris ke 1 sama\n",
      " \n",
      "baris ke 2 sama\n",
      " \n",
      "baris ke 3 sama\n",
      " \n",
      "Baris ke 4 berbeda\n",
      "File 1:\n",
      "saya suka basket\n",
      "File 2:\n",
      "saya suka futsal\n",
      "\n"
     ]
    }
   ],
   "source": [
    "#Latihan 8.1\n",
    "file1 = input('Masukkan nama file dan tipe file\\n: ')\n",
    "file2 = input('Masukkan nama file dan tipe file\\n: ')\n",
    "check1 = open(file1, 'r')\n",
    "with open(file1,'r+') as check1, open(file2,'r+') as check2:\n",
    "    satu = check1.readlines()\n",
    "    dua = check2.readlines()\n",
    "    if satu==dua:\n",
    "        print('kedua file sama')\n",
    "    else:\n",
    "        f_a = len(satu)\n",
    "        f_b = len(dua)\n",
    "        if f_a == f_b:\n",
    "            for i in range (0,f_a):\n",
    "                baris_1 = satu[i]\n",
    "                baris_2 = dua[i]\n",
    "                if satu [i] == dua[i]:\n",
    "                    print(f'baris ke {i+1} sama\\n ')\n",
    "                else:\n",
    "                    print(f\"Baris ke {i+1} berbeda\")\n",
    "                    print(f\"File 1:\\n{satu[i].strip()}\")\n",
    "                    print(f\"File 2:\\n{dua[i].strip()}\\n\")"
   ]
  },
  {
   "cell_type": "code",
   "execution_count": 3,
   "id": "64354e43",
   "metadata": {},
   "outputs": [
    {
     "name": "stdout",
     "output_type": "stream",
     "text": [
      "1+1 =\n",
      "jawaban : 2\n",
      "jawaban Benar\n",
      "Bendera Indonesia?\n",
      "jawaban : merah putih\n",
      "jawaban Benar\n",
      "Kota gudeg adalah:\n",
      "jawaban : yogyakarta\n",
      "jawaban Benar\n",
      "Komponen PC untuk penyimpanan file adalah...\n",
      "jawaban : harddisk\n",
      "jawaban Benar\n",
      "50 * 20 =\n",
      "jawaban : 1000\n",
      "jawaban Benar\n"
     ]
    }
   ],
   "source": [
    "#Latihan 8.2\n",
    "file = open(\"soal.txt\", \"r\")\n",
    "\n",
    "for baris in file:\n",
    "    i = baris.split(\" || \")\n",
    "    print (i[0])\n",
    "    jawaban = input(\"jawaban : \")\n",
    "    if jawaban.lower() == i[1].lower().replace(\"\\n\",\"\"):\n",
    "        print(\"jawaban Benar\")\n",
    "    else:\n",
    "        print(\"Jawaban Salah\")"
   ]
  },
  {
   "cell_type": "code",
   "execution_count": null,
   "id": "1c56a240",
   "metadata": {},
   "outputs": [],
   "source": []
  }
 ],
 "metadata": {
  "kernelspec": {
   "display_name": "Python 3 (ipykernel)",
   "language": "python",
   "name": "python3"
  },
  "language_info": {
   "codemirror_mode": {
    "name": "ipython",
    "version": 3
   },
   "file_extension": ".py",
   "mimetype": "text/x-python",
   "name": "python",
   "nbconvert_exporter": "python",
   "pygments_lexer": "ipython3",
   "version": "3.11.5"
  }
 },
 "nbformat": 4,
 "nbformat_minor": 5
}
